{
  "cells": [
    {
      "cell_type": "markdown",
      "metadata": {
        "id": "RIjEWyzYHJEP"
      },
      "source": [
        "# Synthesize a Table (CTGAN)\n",
        "\n",
        "In this notebook, we'll use the SDV to create synthetic data for a single table and evaluate it. The SDV uses machine learning to learn patterns from real data and emulates them when creating synthetic data.\n",
        "\n",
        "We'll use the **CTGAN** algorithm to do this. CTGAN uses generative adversarial networks (GANs) to create synthesize data with high fidelity."
      ]
    },
    {
      "cell_type": "markdown",
      "metadata": {
        "id": "07pnuWw9HKy-"
      },
      "source": [
        "# Installation and support functions\n",
        "\n",
        "Install the SDV and Anonymeter libraries. Depending on the Python version you might have issues installing Anonymeter. For me, it worked with Python 3.10"
      ]
    },
    {
      "cell_type": "code",
      "execution_count": null,
      "metadata": {
        "colab": {
          "base_uri": "https://localhost:8080/"
        },
        "id": "rEFME85EHGhU",
        "outputId": "2121f8e3-fab4-45df-b620-c8dfe3623b67"
      },
      "outputs": [],
      "source": [
        "%pip install sdv anonymeter"
      ]
    },
    {
      "cell_type": "markdown",
      "metadata": {
        "id": "jG6ANinTHRxS"
      },
      "source": [
        "**Important**: Due to dependency version issues you might have to restart the runtime/kernel. If you experience issues, please restart the runtime/kernel."
      ]
    },
    {
      "cell_type": "markdown",
      "metadata": {
        "id": "_JZpp_1JFnGy"
      },
      "source": [
        "All of the experiments were carried out on the Adults dataset provided by the authors of the Anonymeter paper. They are not the original creators of the dataset. However, they provide it alongside a set of synthetic data which can be used for quick demos of the Anonymeter library. Another benefit of the dataset is that it comes split into two, which is a necessary step for using GANs."
      ]
    },
    {
      "cell_type": "code",
      "execution_count": null,
      "metadata": {
        "id": "hqAoqcFNHL4I"
      },
      "outputs": [],
      "source": [
        "import os\n",
        "import pandas as pd\n",
        "import matplotlib.pyplot as plt\n",
        "import numpy as np\n",
        "import pickle\n",
        "\n",
        "from sdv.metadata import SingleTableMetadata\n",
        "from sdv.single_table import CTGANSynthesizer\n",
        "\n",
        "base_path = \"../data/\" # Please make sure to set a local\n",
        "                                             # base_path. Google drive was used\n",
        "                                             # for persistence.\n",
        "\n",
        "bucket_url = \"https://storage.googleapis.com/statice-public/anonymeter-datasets/\"\n",
        "train = pd.read_csv(os.path.join(bucket_url, \"adults_train.csv\"))\n",
        "synthetic = pd.read_csv(os.path.join(bucket_url, \"adults_syn_ctgan.csv\"))\n",
        "real_data = pd.read_csv(os.path.join(bucket_url, \"adults_control.csv\"))\n",
        "metadata = SingleTableMetadata()\n",
        "\n",
        "metadata.detect_from_dataframe(data=train)"
      ]
    },
    {
      "cell_type": "markdown",
      "metadata": {
        "id": "RJ9GzKwODxm_"
      },
      "source": [
        "## Introduce `anonymeter` evaluation functions.\n",
        "These functions handle evaluation for the three attacks supported by anonymeter. They accept three inputs `ori`, `synth`, `control` which are pandas DataFrams containing data entries. The functions then load the necessary parameters outlined in the anonymeter tutorial and run the attacks.\n",
        "\n",
        "The functions are based on the demo provided by the Anonymeter authors."
      ]
    },
    {
      "cell_type": "code",
      "execution_count": null,
      "metadata": {
        "id": "h7siqkDcDxGh"
      },
      "outputs": [],
      "source": [
        "from anonymeter.evaluators import SinglingOutEvaluator\n",
        "from anonymeter.evaluators import LinkabilityEvaluator\n",
        "from anonymeter.evaluators import InferenceEvaluator\n",
        "\n",
        "from sdv.evaluation.single_table import evaluate_quality\n",
        "\n",
        "n_attacks=1000\n",
        "\n",
        "def measure_quality(synth, control, meta):\n",
        "  return evaluate_quality(\n",
        "      control,\n",
        "      synth,\n",
        "      meta\n",
        "  )\n",
        "\n",
        "def measure_singling_out(ori, synth, control, mode):\n",
        "    evaluator = SinglingOutEvaluator(\n",
        "      ori=ori,\n",
        "      syn=synth,\n",
        "      control=control,\n",
        "      n_attacks=n_attacks\n",
        "    )\n",
        "\n",
        "    try:\n",
        "      evaluator.evaluate(mode)\n",
        "\n",
        "      res = evaluator.results()\n",
        "\n",
        "      return res\n",
        "\n",
        "    except RuntimeError as ex:\n",
        "      print(f\"Singling out evaluation failed with {ex}. Please re-run this cell.\"\n",
        "          \"For more stable results increase `n_attacks`. Note that this will \"\n",
        "          \"make the evaluation slower.\")\n",
        "\n",
        "\n",
        "def measure_linkability(ori, synth, control, aux_cols):\n",
        "\n",
        "    evaluator = LinkabilityEvaluator(ori=ori,\n",
        "                                 syn=synth,\n",
        "                                 control=control,\n",
        "                                 aux_cols=aux_cols,\n",
        "                                 n_attacks=n_attacks)\n",
        "\n",
        "    evaluator.evaluate(n_jobs=-2)\n",
        "\n",
        "    res = evaluator.results()\n",
        "\n",
        "    return res\n",
        "\n",
        "def measure_inference(ori, synth, control, aux_cols):\n",
        "\n",
        "    columns = ori.columns\n",
        "    results = []\n",
        "\n",
        "    for secret in columns:\n",
        "\n",
        "        aux_cols = [col for col in columns if col != secret]\n",
        "\n",
        "        evaluator = InferenceEvaluator(ori=ori,\n",
        "                                   syn=synth,\n",
        "                                   control=control,\n",
        "                                   aux_cols=aux_cols,\n",
        "                                   secret=secret,\n",
        "                                   n_attacks=n_attacks)\n",
        "\n",
        "        evaluator.evaluate(n_jobs=-2)\n",
        "\n",
        "        results.append((secret, evaluator.results()))\n",
        "\n",
        "    return results\n"
      ]
    },
    {
      "cell_type": "markdown",
      "metadata": {
        "id": "LpMhWZOhZiut"
      },
      "source": [
        "`get_results` collects the synthesizer quality and univariate singling out, linkability, and inference risks. Due to time constraints, multivariate singling out is not collected as it is significantly slower. Additionally due to the fact that the singling out evaluator can fail, the `results` object is saved locally at the end of iteration.\n",
        "\n",
        "The function is ran 30 times to provide an ample amount of results."
      ]
    },
    {
      "cell_type": "code",
      "execution_count": null,
      "metadata": {
        "id": "mdaMPF4wCdW3"
      },
      "outputs": [],
      "source": [
        "def run_metrics(fileName):\n",
        "    aux_cols = [\n",
        "      ['type_employer', 'education', 'hr_per_week', 'capital_loss', 'capital_gain'],\n",
        "      [ 'race', 'sex', 'fnlwgt', 'age', 'country']\n",
        "    ]\n",
        "\n",
        "    synthesizer = CTGANSynthesizer.load(fileName)\n",
        "    synthetic_data = synthesizer.sample(num_rows=len(real_data))\n",
        "\n",
        "    quality = measure_quality(synthetic_data, real_data, metadata)\n",
        "    singling_uni_res = measure_singling_out(train,\n",
        "                                            synthetic_data,\n",
        "                                            real_data,\n",
        "                                            \"univariate\")\n",
        "\n",
        "    linkability_res = measure_linkability(train,\n",
        "                                          synthetic_data,\n",
        "                                          real_data,\n",
        "                                          aux_cols)\n",
        "\n",
        "    inference_risks = measure_inference(train,\n",
        "                                        synthetic_data,\n",
        "                                        real_data,\n",
        "                                        aux_cols)\n",
        "\n",
        "    return (quality,\n",
        "            singling_uni_res,\n",
        "            linkability_res,\n",
        "            inference_risks)\n",
        "\n",
        "def get_results(model_list):\n",
        "  result = []\n",
        "\n",
        "  for name, fileName in model_list:\n",
        "\n",
        "      quality, singling_uni_res, linkability_res, inference_risks = run_metrics(fileName)\n",
        "\n",
        "      result.append(\n",
        "          (name,\n",
        "           quality,\n",
        "           singling_uni_res,\n",
        "           linkability_res,\n",
        "           inference_risks)\n",
        "          )\n",
        "\n",
        "  return result\n",
        "\n",
        "def collect_results(model_list, resFileName = \"results\"):\n",
        "  results = []\n",
        "  base_num_tests = 30\n",
        "\n",
        "  try:\n",
        "    with open(f\"{base_path}{resFileName}.pkl\", 'rb') as file:\n",
        "      results = pickle.load(file)\n",
        "  except FileNotFoundError:\n",
        "    print(\"Results back up not found, starting from the beginning\")\n",
        "\n",
        "  num_tests = base_num_tests - len(results)\n",
        "\n",
        "  for i in range(num_tests):\n",
        "    results.append(get_results(model_list))\n",
        "    print(f\"Finished test round {len(results)}\")\n",
        "\n",
        "    with open(f'{base_path}{resFileName}.pkl', 'wb') as file:\n",
        "      pickle.dump(results, file)"
      ]
    },
    {
      "cell_type": "markdown",
      "metadata": {
        "id": "kzDF7g0VH6NY"
      },
      "source": [
        "The results object is processed and turned into a DataFrame that summarizes the findings of the experiments."
      ]
    },
    {
      "cell_type": "code",
      "execution_count": null,
      "metadata": {
        "id": "KznUuYV1KBq0"
      },
      "outputs": [],
      "source": [
        "def process_results(resFileName = \"results\"):\n",
        "  with open(f\"{base_path}{resFileName}.pkl\", 'rb') as file:\n",
        "      results = pickle.load(file)\n",
        "\n",
        "  df=pd.DataFrame(results)\n",
        "\n",
        "  final_breakdown = []\n",
        "\n",
        "  def get_quality_score(report):\n",
        "    return report.get_score() * 100\n",
        "\n",
        "  def get_success(evaluator):\n",
        "    return int(evaluator.attack_rate > evaluator.baseline_rate)\n",
        "\n",
        "  def get_evaluator(infer_tuple):\n",
        "    col, evaluator = infer_tuple\n",
        "\n",
        "    return evaluator\n",
        "\n",
        "  def process_inference_risk(privacy_list):\n",
        "    success = list(map(get_success, list(map(get_evaluator, privacy_list))))\n",
        "\n",
        "    return success\n",
        "\n",
        "  for column in df:\n",
        "    col_df = pd.DataFrame(df[column].to_list())\n",
        "\n",
        "    batch_size = col_df[0][0]\n",
        "    quality_reports = np.array(list(map(get_quality_score, col_df[1])))\n",
        "    singling_out_risk = np.array(list(map(get_success, col_df[2].dropna())))\n",
        "    linkability_risk = np.array(list(map(get_success, col_df[3])))\n",
        "    inference_risk = np.array(list(map(process_inference_risk, col_df[4]))).flatten()\n",
        "\n",
        "    final_breakdown.append((batch_size,\n",
        "                          round(np.mean(quality_reports), 2),\n",
        "                          round((singling_out_risk.sum() / len(singling_out_risk)) * 100, 2),\n",
        "                          round((linkability_risk.sum() / len(linkability_risk)) * 100, 2),\n",
        "                          round((inference_risk.sum() / (len(inference_risk))) * 100, 2),\n",
        "                          ))\n",
        "\n",
        "\n",
        "  results_table = pd.DataFrame(final_breakdown, columns=['Batch Size',\n",
        "                                                         'Quality',\n",
        "                                                         'Singling Out Success',\n",
        "                                                         'Linkability Success',\n",
        "                                                         'Inference Success'\n",
        "                                                         ]\n",
        "                               )\n",
        "  return results_table"
      ]
    },
    {
      "cell_type": "markdown",
      "metadata": {
        "id": "D_sTAu93HVad"
      },
      "source": [
        "# 1. Testing `batch_size`\n",
        "In this section, I carry out tests to determine an appropriate batch size for privacy maximization. In general, higher batch sizes lead to more generalization, as the GAN works on larger samples. This should provide security benefits as a more general set would obscure qualities about the dataset that can be abused. However, as you can see from the results, it seems that there is little privacy different, as measured by Anonymeter, between the selected batch sizes. These results could be due to the testing set up, as only a limited amount of batch sizes were used due to time constraints. Furthermore, the authors of the Anonymeter paper found that the `Adults` dataset, which is used for this assignment, provides a high degree of privacy on its own.  \n",
        "\n",
        "\n",
        "In the future, it would benefit to employ different hyperparameter techniques, such as random search, to determine an optimal batch size. Another avenue for future research is swapping out the `Adults` dataset for one with less secure data."
      ]
    },
    {
      "cell_type": "markdown",
      "metadata": {
        "id": "cubrkf0BG2gU"
      },
      "source": [
        "The batches used for this experiment are educated guesses based on papers about GANs. 500 is the base batch size for CTGAN and provides a good baseline."
      ]
    },
    {
      "cell_type": "code",
      "execution_count": null,
      "metadata": {
        "id": "FvAvdKRHwEJt"
      },
      "outputs": [],
      "source": [
        "batches = [1500, 1000, 500, 250, 50]\n",
        "\n",
        "models = []\n",
        "\n",
        "for batch in batches:\n",
        "    models.append(f\"{base_path}synthesizer_batch_{batch}.pkl\")\n",
        "\n",
        "batch_models = list(zip(batches, models)) # zip the file names and batch sizes to make model building slightly easier"
      ]
    },
    {
      "cell_type": "markdown",
      "metadata": {
        "id": "W-3SeTxRHfIV"
      },
      "source": [
        "## Creating a Synthesizer\n",
        "\n",
        "An SDV **synthesizer** is an object that you can use to create synthetic data. It learns patterns from the real data and replicates them to generate synthetic data."
      ]
    },
    {
      "cell_type": "code",
      "execution_count": null,
      "metadata": {
        "id": "mxYJWGT7Hd3j"
      },
      "outputs": [],
      "source": [
        "for batch, fileName in batch_models:\n",
        "  synthesizer = CTGANSynthesizer(\n",
        "      metadata=metadata,\n",
        "      batch_size=batch,\n",
        "      verbose=True\n",
        "  )\n",
        "  synthesizer.fit(train)\n",
        "\n",
        "  synthesizer.save(fileName)"
      ]
    },
    {
      "cell_type": "markdown",
      "metadata": {
        "id": "ByFexHncHjY-"
      },
      "source": [
        "<font color=\"maroon\"><i><b>This step takes a few minutes.</b> For larger datasets, this phase may take longer. A drawback of a GAN-based model like CTGAN is performance.</i></font>"
      ]
    },
    {
      "cell_type": "code",
      "execution_count": 13,
      "metadata": {
        "colab": {
          "base_uri": "https://localhost:8080/",
          "height": 206
        },
        "id": "6CIZfz27J5bH",
        "outputId": "fdc26426-9a76-4442-81c9-a0f2d32deae6"
      },
      "outputs": [
        {
          "data": {
            "text/html": [
              "<div>\n",
              "<style scoped>\n",
              "    .dataframe tbody tr th:only-of-type {\n",
              "        vertical-align: middle;\n",
              "    }\n",
              "\n",
              "    .dataframe tbody tr th {\n",
              "        vertical-align: top;\n",
              "    }\n",
              "\n",
              "    .dataframe thead th {\n",
              "        text-align: right;\n",
              "    }\n",
              "</style>\n",
              "<table border=\"1\" class=\"dataframe\">\n",
              "  <thead>\n",
              "    <tr style=\"text-align: right;\">\n",
              "      <th></th>\n",
              "      <th>Batch Size</th>\n",
              "      <th>Quality</th>\n",
              "      <th>Singling Out Success</th>\n",
              "      <th>Linkability Success</th>\n",
              "      <th>Inference Success</th>\n",
              "    </tr>\n",
              "  </thead>\n",
              "  <tbody>\n",
              "    <tr>\n",
              "      <th>0</th>\n",
              "      <td>1500</td>\n",
              "      <td>84.47</td>\n",
              "      <td>100.0</td>\n",
              "      <td>13.33</td>\n",
              "      <td>92.89</td>\n",
              "    </tr>\n",
              "    <tr>\n",
              "      <th>1</th>\n",
              "      <td>1000</td>\n",
              "      <td>82.86</td>\n",
              "      <td>100.0</td>\n",
              "      <td>20.00</td>\n",
              "      <td>92.67</td>\n",
              "    </tr>\n",
              "    <tr>\n",
              "      <th>2</th>\n",
              "      <td>500</td>\n",
              "      <td>83.00</td>\n",
              "      <td>100.0</td>\n",
              "      <td>3.33</td>\n",
              "      <td>86.89</td>\n",
              "    </tr>\n",
              "    <tr>\n",
              "      <th>3</th>\n",
              "      <td>250</td>\n",
              "      <td>85.55</td>\n",
              "      <td>100.0</td>\n",
              "      <td>13.33</td>\n",
              "      <td>93.56</td>\n",
              "    </tr>\n",
              "    <tr>\n",
              "      <th>4</th>\n",
              "      <td>50</td>\n",
              "      <td>83.38</td>\n",
              "      <td>100.0</td>\n",
              "      <td>6.67</td>\n",
              "      <td>90.89</td>\n",
              "    </tr>\n",
              "  </tbody>\n",
              "</table>\n",
              "</div>"
            ],
            "text/plain": [
              "   Batch Size  Quality  Singling Out Success  Linkability Success  \\\n",
              "0        1500    84.47                 100.0                13.33   \n",
              "1        1000    82.86                 100.0                20.00   \n",
              "2         500    83.00                 100.0                 3.33   \n",
              "3         250    85.55                 100.0                13.33   \n",
              "4          50    83.38                 100.0                 6.67   \n",
              "\n",
              "   Inference Success  \n",
              "0              92.89  \n",
              "1              92.67  \n",
              "2              86.89  \n",
              "3              93.56  \n",
              "4              90.89  "
            ]
          },
          "execution_count": 13,
          "metadata": {},
          "output_type": "execute_result"
        }
      ],
      "source": [
        "collect_results(batch_models)\n",
        "\n",
        "process_results()"
      ]
    },
    {
      "cell_type": "markdown",
      "metadata": {
        "id": "ugVNgKOXHoaS"
      },
      "source": [
        "# 2 Comparing CTGAN and GaussianCopulaSynthesizer in terms of performance benefit\n",
        "Use the `sample` function and pass in any number of rows to synthesize."
      ]
    },
    {
      "cell_type": "code",
      "execution_count": 14,
      "metadata": {
        "id": "KG81cdYWHhwL"
      },
      "outputs": [],
      "source": [
        "from sdv.single_table import GaussianCopulaSynthesizer\n",
        "\n",
        "models = []\n",
        "\n",
        "gaus_synthesizer = GaussianCopulaSynthesizer(metadata)\n",
        "gaus_synthesizer.fit(train)\n",
        "gaus_synthesizer.save(f\"{base_path}gaussian.pkl\")\n",
        "models.append((\"gaussian\", f\"{base_path}gaussian.pkl\"))\n",
        "\n",
        "GAN_synthesizer = CTGANSynthesizer(\n",
        "    metadata=metadata,\n",
        "    verbose=True\n",
        ")\n",
        "GAN_synthesizer.fit(train)\n",
        "GAN_synthesizer.save(f\"{base_path}gan_synth.pkl\")\n",
        "models.append((\"CTGAN\", f\"{base_path}gan_synth.pkl\"))\n"
      ]
    },
    {
      "cell_type": "code",
      "execution_count": 15,
      "metadata": {
        "colab": {
          "base_uri": "https://localhost:8080/",
          "height": 112
        },
        "id": "QuYQF1Q0OFq1",
        "outputId": "5d1b8989-f417-4d22-f686-ad73af57b2c5"
      },
      "outputs": [
        {
          "data": {
            "text/html": [
              "<div>\n",
              "<style scoped>\n",
              "    .dataframe tbody tr th:only-of-type {\n",
              "        vertical-align: middle;\n",
              "    }\n",
              "\n",
              "    .dataframe tbody tr th {\n",
              "        vertical-align: top;\n",
              "    }\n",
              "\n",
              "    .dataframe thead th {\n",
              "        text-align: right;\n",
              "    }\n",
              "</style>\n",
              "<table border=\"1\" class=\"dataframe\">\n",
              "  <thead>\n",
              "    <tr style=\"text-align: right;\">\n",
              "      <th></th>\n",
              "      <th>Batch Size</th>\n",
              "      <th>Quality</th>\n",
              "      <th>Singling Out Success</th>\n",
              "      <th>Linkability Success</th>\n",
              "      <th>Inference Success</th>\n",
              "    </tr>\n",
              "  </thead>\n",
              "  <tbody>\n",
              "    <tr>\n",
              "      <th>0</th>\n",
              "      <td>gaussian</td>\n",
              "      <td>79.42</td>\n",
              "      <td>100.0</td>\n",
              "      <td>6.67</td>\n",
              "      <td>70.89</td>\n",
              "    </tr>\n",
              "    <tr>\n",
              "      <th>1</th>\n",
              "      <td>CTGAN</td>\n",
              "      <td>86.62</td>\n",
              "      <td>100.0</td>\n",
              "      <td>13.33</td>\n",
              "      <td>93.56</td>\n",
              "    </tr>\n",
              "  </tbody>\n",
              "</table>\n",
              "</div>"
            ],
            "text/plain": [
              "  Batch Size  Quality  Singling Out Success  Linkability Success  \\\n",
              "0   gaussian    79.42                 100.0                 6.67   \n",
              "1      CTGAN    86.62                 100.0                13.33   \n",
              "\n",
              "   Inference Success  \n",
              "0              70.89  \n",
              "1              93.56  "
            ]
          },
          "execution_count": 15,
          "metadata": {},
          "output_type": "execute_result"
        }
      ],
      "source": [
        "collect_results(models, resFileName=\"model_comparison\")\n",
        "\n",
        "process_results(resFileName=\"model_comparison\")"
      ]
    },
    {
      "cell_type": "markdown",
      "metadata": {
        "id": "b1hv4dcvHqsw"
      },
      "source": [
        "The synthesizer is generating synthetic guests in the **same format as the original data**."
      ]
    },
    {
      "cell_type": "markdown",
      "metadata": {
        "id": "ndZ45HjkHt9y"
      },
      "source": [
        "# 3 Performance testing (maybe)\n",
        "\n",
        "In the original dataset, we had some sensitive columns such as the guest's email, billing address and phone number. In the synthetic data, these columns are **fully anonymized** -- they contain entirely fake values that follow the format of the original."
      ]
    },
    {
      "cell_type": "code",
      "execution_count": 17,
      "metadata": {
        "id": "bgsG08DqHqy1"
      },
      "outputs": [],
      "source": [
        "import time\n",
        "\n",
        "from anonymeter.evaluators import SinglingOutEvaluator\n",
        "from anonymeter.evaluators import LinkabilityEvaluator\n",
        "from anonymeter.evaluators import InferenceEvaluator\n",
        "\n",
        "def measure_singling_out_time(ori, synth, control, mode, n_a):\n",
        "  start = time.time()\n",
        "  evaluator = SinglingOutEvaluator(\n",
        "    ori=ori,\n",
        "    syn=synth,\n",
        "    control=control,\n",
        "    n_attacks=n_a\n",
        "  )\n",
        "\n",
        "  try:\n",
        "    evaluator.evaluate(mode)\n",
        "    end = time.time()\n",
        "\n",
        "    return start - end\n",
        "\n",
        "  except RuntimeError as ex:\n",
        "    print(f\"Singling out evaluation failed with {ex}. Please re-run this cell.\"\n",
        "        \"For more stable results increase `n_attacks`. Note that this will \"\n",
        "        \"make the evaluation slower.\")\n",
        "\n",
        "    return start - end\n",
        "\n",
        "\n",
        "def measure_linkability_time(ori, synth, control, aux_cols, n_a):\n",
        "  start = time.time()\n",
        "\n",
        "  evaluator = LinkabilityEvaluator(ori=ori,\n",
        "                               syn=synth,\n",
        "                               control=control,\n",
        "                               aux_cols=aux_cols,\n",
        "                               n_attacks=n_a)\n",
        "\n",
        "  evaluator.evaluate(n_jobs=-2)\n",
        "  end = time.time()\n",
        "\n",
        "  return start - end\n",
        "\n",
        "def measure_inference_time(ori, synth, control, aux_cols, n_a):\n",
        "  columns = ori.columns\n",
        "  results = []\n",
        "\n",
        "  for secret in columns:\n",
        "      start = time.time()\n",
        "      \n",
        "      aux_cols = [col for col in columns if col != secret]\n",
        "\n",
        "      evaluator = InferenceEvaluator(ori=ori,\n",
        "                                 syn=synth,\n",
        "                                 control=control,\n",
        "                                 aux_cols=aux_cols,\n",
        "                                 secret=secret,\n",
        "                                 n_attacks=n_a)\n",
        "\n",
        "      evaluator.evaluate(n_jobs=-2)\n",
        "      end = time.time()\n",
        "\n",
        "      results.append(start - end)\n",
        "\n",
        "  return results"
      ]
    },
    {
      "cell_type": "code",
      "execution_count": 18,
      "metadata": {
        "id": "RuTV6JWK237b"
      },
      "outputs": [],
      "source": [
        "def run_time_metrics(n_a):\n",
        "    aux_cols = [\n",
        "      ['type_employer', 'education', 'hr_per_week', 'capital_loss', 'capital_gain'],\n",
        "      [ 'race', 'sex', 'fnlwgt', 'age', 'country']\n",
        "    ]\n",
        "\n",
        "    singling_uni_time = measure_singling_out_time(train,\n",
        "                                                  synthetic,\n",
        "                                                  real_data,\n",
        "                                                  \"univariate\",\n",
        "                                                  n_a)\n",
        "\n",
        "\n",
        "    linkabilit_time = measure_linkability_time(train,\n",
        "                                               synthetic,\n",
        "                                               real_data,\n",
        "                                               aux_cols,\n",
        "                                               n_a)\n",
        "\n",
        "    inference_time = measure_inference_time(train,\n",
        "                                            synthetic,\n",
        "                                            real_data,\n",
        "                                            aux_cols,\n",
        "                                            n_a)\n",
        "\n",
        "    return (singling_uni_time,\n",
        "            linkabilit_time,\n",
        "            inference_time)\n",
        "\n",
        "def get_time_results(n_a_values):\n",
        "  result = []\n",
        "\n",
        "  for n_a in n_a_values:\n",
        "\n",
        "      singling_uni_time, linkability_time, inference_time = run_time_metrics(n_a)\n",
        "\n",
        "      result.append(\n",
        "          (n_a,\n",
        "           singling_uni_time,\n",
        "           linkability_time,\n",
        "           inference_time)\n",
        "          )\n",
        "\n",
        "  return result\n",
        "\n",
        "def collect_time_results(n_a_values, resFileName = \"results\"):\n",
        "  results = []\n",
        "  base_num_tests = 10\n",
        "\n",
        "  try:\n",
        "    with open(f\"{base_path}{resFileName}.pkl\", 'rb') as file:\n",
        "      results = pickle.load(file)\n",
        "  except FileNotFoundError:\n",
        "    print(\"Results back up not found, starting from the beginning\")\n",
        "\n",
        "  num_tests = base_num_tests - len(results)\n",
        "\n",
        "  for i in range(num_tests):\n",
        "    results.append(get_time_results(n_a_values))\n",
        "    print(f\"Finished test round {len(results)}\")\n",
        "\n",
        "    with open(f'{base_path}{resFileName}.pkl', 'wb') as file:\n",
        "      pickle.dump(results, file)\n"
      ]
    },
    {
      "cell_type": "code",
      "execution_count": 25,
      "metadata": {
        "colab": {
          "base_uri": "https://localhost:8080/",
          "height": 517
        },
        "id": "5nMS5_hrcq_-",
        "outputId": "dba41b62-2cb9-444f-a5fd-ea8fe697ed1a"
      },
      "outputs": [],
      "source": [
        "def process_time_results(resFileName = \"results\"):\n",
        "  with open(f\"{base_path}{resFileName}.pkl\", 'rb') as file:\n",
        "      results = pickle.load(file)\n",
        "\n",
        "  df=pd.DataFrame(results)\n",
        "\n",
        "  final_breakdown = []\n",
        "\n",
        "  for column in df:\n",
        "    col_df = pd.DataFrame(df[column].to_list())\n",
        "\n",
        "    num_attacks = col_df[0][0]\n",
        "\n",
        "    singling_times = np.array(list(map(abs, col_df[1].dropna())))\n",
        "    linkability_times = np.array(list(map(abs, col_df[2].dropna())))\n",
        "    inference_risk = np.array(list(map(abs, col_df[3].explode().dropna())))\n",
        "\n",
        "    final_breakdown.append((num_attacks,\n",
        "                          singling_times.mean(),\n",
        "                          linkability_times.mean(),\n",
        "                          inference_risk.mean()\n",
        "                          ))\n",
        "\n",
        "  final_breakdown = sorted(final_breakdown)\n",
        "  attacks = [i[0] for i in final_breakdown]\n",
        "  attacksi = list(range(len(attacks)))\n",
        "  values = [i[1:] for i in final_breakdown]\n",
        "\n",
        "  singling_values = [i[1] for i in final_breakdown]\n",
        "  linkability = [i[2] for i in final_breakdown]\n",
        "  inference = [i[3] for i in final_breakdown]\n",
        "\n",
        "  line1, = plt.plot(attacksi, singling_values, label=\"singling_values\")\n",
        "  line2, = plt.plot(attacksi, linkability, label=\"linkability\")\n",
        "  line3, = plt.plot(attacksi, inference, label=\"inference\")\n",
        "\n",
        "  plt.xlabel(\"Number of Attacks\")\n",
        "  plt.xticks(attacksi, attacks)\n",
        "  plt.ylabel(\"Time (seconds)\")\n",
        "\n",
        "  plt.legend(handles=[line1, line2, line3])\n",
        "  plt.savefig(f\"{base_path}performance.pdf\", format=\"pdf\", bbox_inches=\"tight\")\n",
        "  \n",
        "  plt.show()"
      ]
    },
    {
      "cell_type": "code",
      "execution_count": 26,
      "metadata": {
        "colab": {
          "base_uri": "https://localhost:8080/"
        },
        "id": "MgUzif74HvH9",
        "outputId": "4e2cb1e7-070e-4444-ed8e-a235dc53772d"
      },
      "outputs": [
        {
          "data": {
            "image/png": "[encoded data removed]",
            "text/plain": [
              "<Figure size 640x480 with 1 Axes>"
            ]
          },
          "metadata": {},
          "output_type": "display_data"
        }
      ],
      "source": [
        "n_a_values = [2000, 1000, 500, 250, 100]\n",
        "\n",
        "collect_time_results(n_a_values, \"time_results\")\n",
        "\n",
        "process_time_results(\"time_results\")"
      ]
    },
    {
      "cell_type": "markdown",
      "metadata": {
        "id": "MMCONailHyAX"
      },
      "source": [
        "# 2.4 Evaluating Real vs. Synthetic Data\n",
        "The synthetic data replicates the **mathematical properties** of the real data. To get more insight, we can use the `evaluation` module."
      ]
    },
    {
      "cell_type": "code",
      "execution_count": null,
      "metadata": {
        "id": "P2yseYZwHxBf"
      },
      "outputs": [],
      "source": [
        "from sdv.evaluation.single_table import evaluate_quality\n",
        "\n",
        "quality_report = evaluate_quality(\n",
        "    real_data,\n",
        "    synthetic_data,\n",
        "    metadata\n",
        ")"
      ]
    },
    {
      "cell_type": "markdown",
      "metadata": {
        "id": "X_sKQGVBH2BF"
      },
      "source": [
        "The report allows us to visualize the different properties that were captured. For example, the visualization below shows us _which_ individual column shapes were well-captured and which weren't."
      ]
    },
    {
      "cell_type": "code",
      "execution_count": null,
      "metadata": {
        "id": "OG7FYIwYHzFA"
      },
      "outputs": [],
      "source": [
        "quality_report.get_visualization('Column Pair Trends')"
      ]
    },
    {
      "cell_type": "markdown",
      "metadata": {
        "id": "vxbSzYngH5ix"
      },
      "source": [
        "# 2.5 Visualizing the Data\n",
        "For more insights, we can visualize the real vs. synthetic data.\n",
        "\n",
        "Let's perform a 1D visualization comparing a column of the real data to the synthetic data."
      ]
    },
    {
      "cell_type": "code",
      "execution_count": null,
      "metadata": {
        "id": "ABSTUbg2H3TR"
      },
      "outputs": [],
      "source": [
        "from sdv.evaluation.single_table import get_column_plot\n",
        "\n",
        "fig = get_column_plot(\n",
        "    real_data=real_data,\n",
        "    synthetic_data=synthetic_data,\n",
        "    column_name='age',\n",
        "    metadata=metadata\n",
        ")\n",
        "\n",
        "fig.show()"
      ]
    },
    {
      "cell_type": "markdown",
      "metadata": {
        "id": "8b27QmlLH8yf"
      },
      "source": [
        "We can also visualize in 2D, comparing the correlations of a pair of columns."
      ]
    },
    {
      "cell_type": "markdown",
      "metadata": {
        "id": "NklmU1ZrIMO0"
      },
      "source": [
        "---\n",
        "\n",
        "# About\n",
        "\n",
        "The [Synthetic Data Vault Project](https://github.com/sdv-dev/SDV) was first created at MIT's Data to AI Lab in 2016. After 4 years of research and traction with enterprise, we created [DataCebo](https://datacebo.com/) in 2020 with the goal of growing the project. Today, DataCebo is the proud developer of SDV, the largest ecosystem for tabular synthetic data generation & evaluation."
      ]
    }
  ],
  "metadata": {
    "colab": {
      "collapsed_sections": [
        "MMCONailHyAX"
      ],
      "provenance": []
    },
    "kernelspec": {
      "display_name": "Python 3",
      "name": "python3"
    },
    "language_info": {
      "codemirror_mode": {
        "name": "ipython",
        "version": 3
      },
      "file_extension": ".py",
      "mimetype": "text/x-python",
      "name": "python",
      "nbconvert_exporter": "python",
      "pygments_lexer": "ipython3",
      "version": "3.10.8"
    }
  },
  "nbformat": 4,
  "nbformat_minor": 0
}
